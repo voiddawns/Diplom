{
 "cells": [
  {
   "cell_type": "code",
   "execution_count": 10,
   "metadata": {},
   "outputs": [],
   "source": [
    "from PIL import Image\n",
    "import numpy as np"
   ]
  },
  {
   "cell_type": "code",
   "execution_count": 32,
   "metadata": {},
   "outputs": [],
   "source": [
    "jesus = Image.open('/home/user/jesus.jpg')\n",
    "jesus_L = jesus.convert('L')"
   ]
  },
  {
   "cell_type": "code",
   "execution_count": 33,
   "metadata": {},
   "outputs": [],
   "source": [
    "# jesus_list = list(jesus.getdata())\n",
    "jesus_list_np = np.array(jesus_L)"
   ]
  },
  {
   "cell_type": "code",
   "execution_count": 41,
   "metadata": {},
   "outputs": [
    {
     "data": {
      "text/plain": [
       "array([[0, 0, 0],\n",
       "       [0, 0, 0],\n",
       "       [0, 0, 0]], dtype=uint8)"
      ]
     },
     "execution_count": 41,
     "metadata": {},
     "output_type": "execute_result"
    }
   ],
   "source": [
    "for i in range(jesus_list_np.shape[0]):\n",
    "    for j in range(jesus_list_np.shape[1]):\n",
    "        if jesus_list_np[i][j] == 255:\n",
    "            jesus_list_np[i][j] = 0\n",
    "            \n",
    "jesus_list_np\n",
    "            "
   ]
  },
  {
   "cell_type": "code",
   "execution_count": 42,
   "metadata": {},
   "outputs": [],
   "source": [
    "jesus2 = Image.fromarray(jesus_list_np, 'L')"
   ]
  },
  {
   "cell_type": "code",
   "execution_count": 43,
   "metadata": {},
   "outputs": [],
   "source": [
    "jesus2.show()\n",
    "jesus2.save('/home/user/jesus2.jpg')"
   ]
  },
  {
   "cell_type": "code",
   "execution_count": 3,
   "metadata": {},
   "outputs": [],
   "source": [
    "import numpy as np\n",
    "\n",
    "\n",
    "#input is a RGB numpy array with shape (height,width,3), can be uint,int, float or double, values expected in the range 0..255\n",
    "#output is a double YUV numpy array with shape (height,width,3), values in the range 0..255\n",
    "def RGB2YUV( rgb ):\n",
    "     \n",
    "    m = np.array([[ 0.29900, -0.16874,  0.50000],\n",
    "                 [0.58700, -0.33126, -0.41869],\n",
    "                 [ 0.11400, 0.50000, -0.08131]])\n",
    "     \n",
    "    yuv = np.dot(rgb,m)\n",
    "    yuv[:,:,1:]+=128.0\n",
    "    return yuv\n",
    "\n",
    "\n",
    "def conver_binary_to_rgb(binary):\n",
    "    rgb_line = []\n",
    "    rgb = []\n",
    "    for i in range(len(binary)):\n",
    "        for j in range(len(binary[0])):\n",
    "            rgb_line.append([binary[i][j], binary[i][j], binary[i][j]])\n",
    "        rgb.append(rgb_line.copy())\n",
    "        rgb_line.clear()\n",
    "    return rgb\n",
    "            \n",
    "            "
   ]
  },
  {
   "cell_type": "code",
   "execution_count": 4,
   "metadata": {},
   "outputs": [],
   "source": [
    "from PIL import Image\n",
    "\n",
    "def png_to_yuv(input_image, output_image=None):\n",
    "    img = Image.open(input_image, mode=\"r\")\n",
    "    img_yuv = img.convert('L')\n",
    "    point = calc_eta(img_yuv)\n",
    "    bw = img_yuv.point(lambda x: 0 if x<point else 255, '1')\n",
    "    if output_image:\n",
    "        bw.save(output_image)\n",
    "    return bw\n",
    "\n",
    "def calc_eta(img):\n",
    "    width,height = img.size\n",
    "    total = 0\n",
    "    for i in range(0,width):\n",
    "        for j in range(0,height):\n",
    "            total += img.getpixel((i,j))\n",
    "    mean = total / (width * height)\n",
    "    return mean"
   ]
  },
  {
   "cell_type": "code",
   "execution_count": 44,
   "metadata": {},
   "outputs": [],
   "source": [
    "import grey_scale\n",
    "import scale\n",
    "from PIL import Image\n",
    "import numpy as np\n",
    "from limfocit import Limfocit_B"
   ]
  },
  {
   "cell_type": "code",
   "execution_count": 45,
   "metadata": {},
   "outputs": [],
   "source": [
    "Limfocit_B.init(50, 50)\n",
    "imgen = Limfocit_B.generate(2500, 50, 50)\n",
    "imarr = imgen.convert_to_array()\n",
    "image = imgen.convert_to_image()\n",
    "image.show()"
   ]
  },
  {
   "cell_type": "code",
   "execution_count": null,
   "metadata": {},
   "outputs": [],
   "source": []
  },
  {
   "cell_type": "code",
   "execution_count": 46,
   "metadata": {},
   "outputs": [],
   "source": [
    "Limfocit_B.init(100, 100)"
   ]
  },
  {
   "cell_type": "code",
   "execution_count": 47,
   "metadata": {},
   "outputs": [],
   "source": [
    "imgen = Limfocit_B.generate(2500, 100, 100)"
   ]
  },
  {
   "cell_type": "code",
   "execution_count": 48,
   "metadata": {},
   "outputs": [],
   "source": [
    "imarr = imgen.convert_to_array()"
   ]
  },
  {
   "cell_type": "code",
   "execution_count": 5,
   "metadata": {},
   "outputs": [],
   "source": [
    "image = imgen.convert_to_image()"
   ]
  },
  {
   "cell_type": "code",
   "execution_count": 6,
   "metadata": {},
   "outputs": [],
   "source": [
    "image.show()"
   ]
  },
  {
   "cell_type": "code",
   "execution_count": 57,
   "metadata": {},
   "outputs": [
    {
     "data": {
      "text/plain": [
       "150"
      ]
     },
     "execution_count": 57,
     "metadata": {},
     "output_type": "execute_result"
    }
   ],
   "source": [
    "image.size[0]"
   ]
  },
  {
   "cell_type": "code",
   "execution_count": 52,
   "metadata": {},
   "outputs": [],
   "source": [
    "import random"
   ]
  },
  {
   "cell_type": "code",
   "execution_count": 53,
   "metadata": {},
   "outputs": [],
   "source": [
    "size = heigth * width\n",
    "white_indexes = set(random.sample(range(size), limfocit_type))\n",
    "black_indexes = set(range(size)) - white_indexes\n",
    "limfocit = Limfocit_B(reaction_limit=0.4, size=heigth)\n",
    "for i in white_indexes:\n",
    "    limfocit.white_pixels.append(cls.limfoset[i])\n",
    "for i in black_indexes:\n",
    "    limfocit.black_pixels.append(cls.limfoset[i])\n",
    "return limfocit"
   ]
  },
  {
   "cell_type": "code",
   "execution_count": 54,
   "metadata": {},
   "outputs": [
    {
     "data": {
      "text/plain": [
       "{5, 8, 12, 15, 22, 32, 35, 36, 37, 44, 48, 53, 54, 76, 81, 84, 92, 94, 97, 99}"
      ]
     },
     "execution_count": 54,
     "metadata": {},
     "output_type": "execute_result"
    }
   ],
   "source": []
  },
  {
   "cell_type": "code",
   "execution_count": 55,
   "metadata": {},
   "outputs": [
    {
     "data": {
      "text/plain": [
       "array([0, 0, 1], dtype=uint8)"
      ]
     },
     "execution_count": 55,
     "metadata": {},
     "output_type": "execute_result"
    }
   ],
   "source": [
    "np.uint8([0,0,1])"
   ]
  },
  {
   "cell_type": "code",
   "execution_count": 58,
   "metadata": {},
   "outputs": [],
   "source": [
    "import os"
   ]
  },
  {
   "cell_type": "code",
   "execution_count": 62,
   "metadata": {},
   "outputs": [
    {
     "name": "stdout",
     "output_type": "stream",
     "text": [
      "recognition.py\n",
      "crop.py\n",
      "limfocit.py\n",
      "main.py\n",
      "Untitled.py\n",
      "test.py\n",
      "scale.pyc\n",
      "__pycache__\n",
      "grey_scale.pyc\n",
      "scale.py\n",
      ".ipynb_checkpoints\n",
      "Untitled.ipynb\n",
      "grey_scale.py\n"
     ]
    }
   ],
   "source": [
    "import os\n",
    "for filename in os.listdir(os.getcwd()):\n",
    "    print(filename)"
   ]
  },
  {
   "cell_type": "code",
   "execution_count": null,
   "metadata": {},
   "outputs": [],
   "source": []
  }
 ],
 "metadata": {
  "kernelspec": {
   "display_name": "Python 3",
   "language": "python",
   "name": "python3"
  },
  "language_info": {
   "codemirror_mode": {
    "name": "ipython",
    "version": 3
   },
   "file_extension": ".py",
   "mimetype": "text/x-python",
   "name": "python",
   "nbconvert_exporter": "python",
   "pygments_lexer": "ipython3",
   "version": "3.5.2"
  }
 },
 "nbformat": 4,
 "nbformat_minor": 2
}
